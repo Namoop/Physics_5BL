{
 "cells": [
  {
   "cell_type": "code",
   "execution_count": 7,
   "id": "initial_id",
   "metadata": {
    "collapsed": true,
    "ExecuteTime": {
     "end_time": "2024-03-08T05:15:40.262418100Z",
     "start_time": "2024-03-08T05:15:40.219905800Z"
    }
   },
   "outputs": [],
   "source": [
    "#imports\n",
    "import numpy as np\n",
    "import scipy.optimize as opt\n",
    "import matplotlib.pyplot as plt\n",
    "from scipy.optimize import curve_fit\n",
    "import math\n"
   ]
  },
  {
   "cell_type": "markdown",
   "id": "4db70a1b01621325",
   "metadata": {
    "collapsed": false
   },
   "source": [
    "# Lab: EM1 - Tasks\n",
    "1. load the data\n",
    "#### Part 0:\n",
    "2. measure resistance\n",
    "3. do agreement test\n",
    "#### Part 1:\n",
    "3. \n",
    "#### Part 2:\n",
    "#### Part 3:"
   ]
  },
  {
   "cell_type": "markdown",
   "id": "4d313d316d857464",
   "metadata": {
    "collapsed": false
   },
   "source": [
    "## Load the data"
   ]
  },
  {
   "cell_type": "code",
   "execution_count": 8,
   "id": "243cb12483c48f4a",
   "metadata": {
    "collapsed": false,
    "ExecuteTime": {
     "end_time": "2024-03-08T05:15:40.302995600Z",
     "start_time": "2024-03-08T05:15:40.223780300Z"
    }
   },
   "outputs": [],
   "source": [
    "def file_name(part, letter):\n",
    "    return f'resources/data/EM1 Part {part}{letter}'\n",
    "#Read in data from the csv file\n",
    "data1A1_table = np.loadtxt(file_name(1, \"A1\"), delimiter=',', skiprows=1)\n",
    "data1A1 = {\n",
    "    \"time\": data1A1_table[:,0],            #time\n",
    "    \"A7_volts\": data1A1_table[:,2],        #A7_volts\n",
    "    \"A8_volts\": data1A1_table[:,3],        #A8_volts\n",
    "}\n",
    "data1A2_table = np.loadtxt(file_name(1, \"A2\"), delimiter=',', skiprows=1)\n",
    "data1A2 = {\n",
    "    \"time\": data1A2_table[:,0],            #time\n",
    "    \"A7_volts\": data1A2_table[:,4],        #A7_volts\n",
    "}\n",
    "data1B1_table = np.loadtxt(file_name(1, \"B1\"), delimiter=',', skiprows=1)\n",
    "data1B1 = {\n",
    "    \"time\": data1B1_table[:,0],            #time\n",
    "    \"high_gain\": data1B1_table[:,2],       #high gain\n",
    "    \"A7_volts\": data1B1_table[:,4],        #A7_volts\n",
    "}\n",
    "data1B2_table = np.loadtxt(file_name(1, \"B2\"), delimiter=',', skiprows=1)\n",
    "data1B2 = {\n",
    "    \"time\": data1B2_table[:,0],            #time\n",
    "    \"A7_volts\": data1B2_table[:,4],        #A7_volts\n",
    "}\n",
    "# not done\n",
    "data2A_table = np.loadtxt(file_name(2, \"A\"), delimiter=',', skiprows=1)\n",
    "data2A = {\n",
    "    \"time\": data2A_table[:,0],            #time\n",
    "    \"A7_volts\": data2A_table[:,4],        #A7_volts\n",
    "}\n",
    "data2AC_table = np.loadtxt(file_name(2, \"A current.csv\"), delimiter=',', skiprows=1)\n",
    "data2AC = {\n",
    "    \"volts\": data2AC_table[:,0],       #volts\n",
    "    \"amps\": data2AC_table[:,1],        #amps\n",
    "}\n",
    "data2B_table = np.loadtxt(file_name(2, \"B\"), delimiter=',', skiprows=1)\n",
    "data2B = {\n",
    "    \"time\": data2B_table[:,0],            #time\n",
    "    \"A7_volts\": data2B_table[:,4],        #A7_volts\n",
    "    \"A8_volts\": data2B_table[:,5],        #A8_volts\n",
    "}\n",
    "data2B_ext_table = np.loadtxt(file_name(2, \"B Ext\"), delimiter=',', skiprows=1)\n",
    "data2B_ext = {\n",
    "    \"time\": data2B_ext_table[:,0],            #time\n",
    "    \"A7_volts\": data2B_ext_table[:,4],        #A7_volts\n",
    "    \"A8_volts\": data2B_ext_table[:,5],        #A8_volts\n",
    "}\n",
    "\n",
    "# input data 3\n",
    "\n",
    "# data3_table = np.loadtxt('EM1 Part 3', delimiter=',', skiprows=1)\n",
    "# data3 = {\n",
    "#     \"time\": data3_table[:,0],            #time\n",
    "#     \"A7_volts\": data3_table[:,4],        #A7_volts\n",
    "#     \"A8_volts\": data3_table[:,5],        #A8_volts\n",
    "# }\n",
    "\n",
    "def get_data_slice(data, start=0, stop=-1, step=None):\n",
    "    val = {}\n",
    "    for item in data.keys():\n",
    "        val[item] = data[item][start:stop:step]\n",
    "    return val"
   ]
  },
  {
   "cell_type": "markdown",
   "id": "a9955f96fa8e553b",
   "metadata": {
    "collapsed": false
   },
   "source": [
    "## Part 0\n",
    "\n",
    "- measure resistance\n",
    "    - 1 ohm resistor\n",
    "    - 1.1 +- 0.011\n",
    "- do agreement test"
   ]
  },
  {
   "cell_type": "code",
   "execution_count": 9,
   "id": "383f3b69aa872c97",
   "metadata": {
    "collapsed": false,
    "ExecuteTime": {
     "end_time": "2024-03-08T05:15:40.302995600Z",
     "start_time": "2024-03-08T05:15:40.299207700Z"
    }
   },
   "outputs": [],
   "source": [
    "# no code necessary"
   ]
  },
  {
   "cell_type": "markdown",
   "id": "ff73052e679f413c",
   "metadata": {
    "collapsed": false
   },
   "source": [
    "## Part 1\n",
    "\n",
    "### a) Measure Voltage\n",
    "\n",
    "- compare iolab output to dmm measurement\n",
    "\n",
    "\n",
    "### b) Measure Current\n",
    "\n",
    "- compare iolab output to predicted current\n",
    "\n",
    "- compare dmm measurement to predicted current"
   ]
  },
  {
   "cell_type": "code",
   "execution_count": 9,
   "id": "45b899d8693d9182",
   "metadata": {
    "collapsed": false,
    "ExecuteTime": {
     "end_time": "2024-03-08T05:15:40.310428800Z",
     "start_time": "2024-03-08T05:15:40.302488700Z"
    }
   },
   "outputs": [],
   "source": []
  },
  {
   "cell_type": "markdown",
   "id": "cc13a988c92616ce",
   "metadata": {
    "collapsed": false
   },
   "source": [
    "## Part 2\n",
    "\n",
    "### a) Ohmic behavior\n",
    "\n",
    "- plot V vs I"
   ]
  },
  {
   "cell_type": "code",
   "execution_count": 10,
   "id": "9a5728601f5ef96d",
   "metadata": {
    "collapsed": false,
    "ExecuteTime": {
     "end_time": "2024-03-08T05:15:40.384382500Z",
     "start_time": "2024-03-08T05:15:40.305258500Z"
    }
   },
   "outputs": [
    {
     "data": {
      "text/plain": "<Figure size 640x480 with 1 Axes>",
      "image/png": "[encoded data removed]"
     },
     "metadata": {},
     "output_type": "display_data"
    }
   ],
   "source": [
    "def part2():\n",
    "    data = get_data_slice(data2AC)\n",
    "    plt.plot(data[\"volts\"], data[\"amps\"], 'o')\n",
    "    plt.xlabel(\"Voltage (V)\")\n",
    "    plt.ylabel(\"Current (A)\")\n",
    "    plt.title(\"V vs I\")\n",
    "    plt.show()\n",
    "part2()"
   ]
  },
  {
   "cell_type": "markdown",
   "id": "101035aed94e5c2e",
   "metadata": {
    "collapsed": false
   },
   "source": [
    "## Part 3"
   ]
  },
  {
   "cell_type": "code",
   "execution_count": 11,
   "id": "c3cd89426bb3f385",
   "metadata": {
    "collapsed": false,
    "ExecuteTime": {
     "end_time": "2024-03-08T05:15:40.391683900Z",
     "start_time": "2024-03-08T05:15:40.387024400Z"
    }
   },
   "outputs": [
    {
     "name": "stdout",
     "output_type": "stream",
     "text": [
      "['I1: 0.236 mA', 'I2: 0.231 mA', 'I3: 0.466 mA']\n"
     ]
    }
   ],
   "source": [
    "def part3():\n",
    "    v1 = 3.3\n",
    "    v2 = 4.5\n",
    "    r1 = 4_700\n",
    "    r2 = 10_000\n",
    "    r3 = 4_700\n",
    "    \n",
    "    a = np.array(\n",
    "        [[r1, 0, r3],  # r1x + 0y + r3z = v1\n",
    "         [0, r2, r3],  # 0x + r2y + r3z = v2\n",
    "         [1, 1, -1]])  # x + y - z = 0\n",
    "    b = np.array([v1, v2, 0])\n",
    "    currents = np.linalg.solve(a, b)\n",
    "    print([\"I%s: %.3f mA\" %(i+1,a) for i, a in enumerate(currents * 1000)])\n",
    "    \n",
    "part3()\n",
    "# hi"
   ]
  }
 ],
 "metadata": {
  "kernelspec": {
   "display_name": "Python 3",
   "language": "python",
   "name": "python3"
  },
  "language_info": {
   "codemirror_mode": {
    "name": "ipython",
    "version": 3
   },
   "file_extension": ".py",
   "mimetype": "text/x-python",
   "name": "python",
   "nbconvert_exporter": "python",
   "pygments_lexer": "ipython3",
   "version": "3.11.4"
  }
 },
 "nbformat": 4,
 "nbformat_minor": 5
}
