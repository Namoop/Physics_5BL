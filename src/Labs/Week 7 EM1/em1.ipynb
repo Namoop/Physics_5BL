{
 "cells": [
  {
   "cell_type": "code",
   "execution_count": 8,
   "id": "initial_id",
   "metadata": {
    "collapsed": true,
    "ExecuteTime": {
     "end_time": "2024-02-28T20:54:39.484369300Z",
     "start_time": "2024-02-28T20:54:39.308247300Z"
    }
   },
   "outputs": [],
   "source": [
    "#imports\n",
    "# import pandas as pd\n",
    "import numpy as np\n",
    "import matplotlib.pyplot as plt\n"
   ]
  },
  {
   "cell_type": "markdown",
   "source": [
    "# Lab: EM1 - Tasks\n",
    "1. load the data\n",
    "#### Part 0:\n",
    "2. measure resistance\n",
    "3. do agreement test\n",
    "#### Part 1:\n",
    "3. \n",
    "#### Part 2:\n",
    "#### Part 3:"
   ],
   "metadata": {
    "collapsed": false
   },
   "id": "4db70a1b01621325"
  },
  {
   "cell_type": "markdown",
   "source": [
    "## Load the data"
   ],
   "metadata": {
    "collapsed": false
   },
   "id": "4d313d316d857464"
  },
  {
   "cell_type": "code",
   "execution_count": 8,
   "outputs": [],
   "source": [],
   "metadata": {
    "collapsed": false,
    "ExecuteTime": {
     "end_time": "2024-02-28T20:54:39.492658200Z",
     "start_time": "2024-02-28T20:54:39.311776900Z"
    }
   },
   "id": "243cb12483c48f4a"
  },
  {
   "cell_type": "markdown",
   "source": [
    "## Part 0\n",
    "\n",
    "- measure resistance\n",
    "    - 1 ohm resistor\n",
    "    - 1.1 +- 0.011\n",
    "- do agreement test"
   ],
   "metadata": {
    "collapsed": false
   },
   "id": "a9955f96fa8e553b"
  },
  {
   "cell_type": "code",
   "execution_count": 8,
   "outputs": [],
   "source": [],
   "metadata": {
    "collapsed": false,
    "ExecuteTime": {
     "end_time": "2024-02-28T20:54:39.492658200Z",
     "start_time": "2024-02-28T20:54:39.320369800Z"
    }
   },
   "id": "383f3b69aa872c97"
  },
  {
   "cell_type": "markdown",
   "source": [
    "## Part 1\n"
   ],
   "metadata": {
    "collapsed": false
   },
   "id": "ff73052e679f413c"
  },
  {
   "cell_type": "code",
   "execution_count": 8,
   "outputs": [],
   "source": [],
   "metadata": {
    "collapsed": false,
    "ExecuteTime": {
     "end_time": "2024-02-28T20:54:39.492658200Z",
     "start_time": "2024-02-28T20:54:39.326215900Z"
    }
   },
   "id": "45b899d8693d9182"
  },
  {
   "cell_type": "markdown",
   "source": [
    "## Part 2"
   ],
   "metadata": {
    "collapsed": false
   },
   "id": "cc13a988c92616ce"
  },
  {
   "cell_type": "code",
   "execution_count": 8,
   "outputs": [],
   "source": [],
   "metadata": {
    "collapsed": false,
    "ExecuteTime": {
     "end_time": "2024-02-28T20:54:39.496658300Z",
     "start_time": "2024-02-28T20:54:39.332308200Z"
    }
   },
   "id": "9a5728601f5ef96d"
  },
  {
   "cell_type": "markdown",
   "source": [
    "## Part 3"
   ],
   "metadata": {
    "collapsed": false
   },
   "id": "101035aed94e5c2e"
  },
  {
   "cell_type": "code",
   "execution_count": 21,
   "outputs": [
    {
     "name": "stdout",
     "output_type": "stream",
     "text": [
      "['I1: 0.236 mA', 'I2: 0.231 mA', 'I3: 0.466 mA']\n"
     ]
    }
   ],
   "source": [
    "def part3():\n",
    "    v1 = 3.3\n",
    "    v2 = 4.5\n",
    "    r1 = 4_700\n",
    "    r2 = 10_000\n",
    "    r3 = 4_700\n",
    "    \n",
    "    a = np.array(\n",
    "        [[r1, 0, r3],  # r1x + 0y + r3z = v1\n",
    "         [0, r2, r3],  # 0x + r2y + r3z = v2\n",
    "         [1, 1, -1]])  # x + y - z = 0\n",
    "    b = np.array([v1, v2, 0])\n",
    "    currents = np.linalg.solve(a, b)\n",
    "    print([\"I%s: %.3f mA\" %(i+1,a) for i, a in enumerate(currents * 1000)])\n",
    "    \n",
    "part3()"
   ],
   "metadata": {
    "collapsed": false,
    "ExecuteTime": {
     "end_time": "2024-02-28T21:15:54.710085300Z",
     "start_time": "2024-02-28T21:15:54.618048500Z"
    }
   },
   "id": "c3cd89426bb3f385"
  }
 ],
 "metadata": {
  "kernelspec": {
   "display_name": "Python 3",
   "language": "python",
   "name": "python3"
  },
  "language_info": {
   "codemirror_mode": {
    "name": "ipython",
    "version": 2
   },
   "file_extension": ".py",
   "mimetype": "text/x-python",
   "name": "python",
   "nbconvert_exporter": "python",
   "pygments_lexer": "ipython2",
   "version": "2.7.6"
  }
 },
 "nbformat": 4,
 "nbformat_minor": 5
}
