{
 "cells": [
  {
   "cell_type": "markdown",
   "id": "3d9088b2-8d28-448a-a9b4-3fb4144f878f",
   "metadata": {},
   "source": [
    "# Lab 6 - Weighted Linear Fit\n",
    "## *based on the lab 6 excel file\n",
    "Zhirong Zhang (zhirongz@berkeley.edu)"
   ]
  },
  {
   "cell_type": "code",
   "execution_count": 113,
   "id": "5e7a00a5-ef5e-4708-9eb1-5155e6996ed1",
   "metadata": {
    "ExecuteTime": {
     "end_time": "2024-02-12T08:46:49.546491100Z",
     "start_time": "2024-02-12T08:46:49.487452400Z"
    }
   },
   "outputs": [],
   "source": [
    "import numpy as np\n",
    "import scipy.optimize as opt\n",
    "import matplotlib.pyplot as plt"
   ]
  },
  {
   "cell_type": "markdown",
   "id": "1fd00ce8-a85f-43e4-9eac-1ff9831086bf",
   "metadata": {},
   "source": [
    "## Preparation of Data\n",
    "In this part, we first read in the data. Then we calculate the means and standard errors."
   ]
  },
  {
   "cell_type": "code",
   "execution_count": 114,
   "id": "0cc5e863-8f1a-422d-aa54-e67dd1f23641",
   "metadata": {
    "ExecuteTime": {
     "end_time": "2024-02-12T08:46:49.556521100Z",
     "start_time": "2024-02-12T08:46:49.505006200Z"
    }
   },
   "outputs": [],
   "source": [
    "#Read in data from the csv file\n",
    "data_table = np.loadtxt('lab6_test_dataset_csv.csv', delimiter=',', skiprows=1)\n",
    "\n",
    "#allocate a numpy matrix for storing periods\n",
    "time_table = np.zeros((9,7))\n",
    "\n",
    "#Sort the data into the time_table\n",
    "for n in list(range(1,10)):\n",
    "    time_table[n-1] = data_table[:,n]"
   ]
  },
  {
   "cell_type": "code",
   "execution_count": 115,
   "id": "0f5186ef-87af-49a2-894b-8f655395d52e",
   "metadata": {
    "ExecuteTime": {
     "end_time": "2024-02-12T08:46:49.710829300Z",
     "start_time": "2024-02-12T08:46:49.523475700Z"
    }
   },
   "outputs": [
    {
     "name": "stdout",
     "output_type": "stream",
     "text": [
      "mean :\n",
      "[ 4.77285714  6.44285714  7.50142857  8.47714286  9.57142857 10.39428571\n",
      " 11.38142857 11.99142857 12.62428571]\n",
      "standard deviation :\n",
      "[0.03817254 0.06129554 0.06094494 0.11513967 0.05639993 0.07678045\n",
      " 0.09546877 0.04488079 0.08676734]\n",
      "standard error\n",
      "[0.01442786 0.02316754 0.02303502 0.0435187  0.02131717 0.02902028\n",
      " 0.0360838  0.01696335 0.03279497]\n"
     ]
    }
   ],
   "source": [
    "#mean\n",
    "#axis = 1 meaning we are average each row\n",
    "mean = np.mean(time_table, axis=1)\n",
    "print('mean :')\n",
    "print(mean)\n",
    "\n",
    "#standard deviation\n",
    "std = np.std(time_table, axis=1, ddof=1)\n",
    "print('standard deviation :')\n",
    "print(std)\n",
    "\n",
    "#standard error\n",
    "stderr = std/np.sqrt(7)\n",
    "print('standard error')\n",
    "print(stderr)"
   ]
  },
  {
   "cell_type": "markdown",
   "id": "9aa5bc94-9d04-4303-abe1-8bcd8a507c91",
   "metadata": {},
   "source": [
    "## Continue preparing data ...\n",
    "Now we compute the time for each rotational period, and propagate the errors."
   ]
  },
  {
   "cell_type": "code",
   "execution_count": 116,
   "id": "55bede5a-4c37-4ad4-abe0-0a4f05c0081f",
   "metadata": {
    "ExecuteTime": {
     "end_time": "2024-02-12T08:46:49.712295100Z",
     "start_time": "2024-02-12T08:46:49.530999600Z"
    }
   },
   "outputs": [],
   "source": [
    "T = mean/10\n",
    "alpha_T = stderr/10\n",
    "T_square = np.square(T)\n",
    "alpha_T_square = 2*np.multiply(T,alpha_T)"
   ]
  },
  {
   "cell_type": "markdown",
   "id": "cc9a7de0-bd87-4cc0-a454-04ee118392fa",
   "metadata": {},
   "source": [
    "Time to move on to moment of inertia."
   ]
  },
  {
   "cell_type": "code",
   "execution_count": 117,
   "id": "a3c23df8-6485-41c2-adea-5e3d5253ada9",
   "metadata": {
    "ExecuteTime": {
     "end_time": "2024-02-12T08:46:49.712295100Z",
     "start_time": "2024-02-12T08:46:49.534541800Z"
    }
   },
   "outputs": [],
   "source": [
    "#Prepare some constant.\n",
    "#LOAD YOUR OWN CONSTANTS!\n",
    "\n",
    "#Moment of inertia of the holder\n",
    "I_HOLDER = 100\n",
    "#Moment of inertia of a single disk\n",
    "I_DISK = 286.8\n",
    "\n",
    "#construct moment of inertia error\n",
    "n_array = np.arange(1,10)\n",
    "I_array = I_HOLDER+I_DISK*n_array"
   ]
  },
  {
   "cell_type": "markdown",
   "id": "66612480-424e-445d-b1cc-bf198233f2cf",
   "metadata": {},
   "source": [
    "Error propagation. Fun stuff!"
   ]
  },
  {
   "cell_type": "code",
   "execution_count": 118,
   "id": "fbf5880e-9e3f-446e-ae54-e395cc8c2f6b",
   "metadata": {
    "ExecuteTime": {
     "end_time": "2024-02-12T08:46:49.712295100Z",
     "start_time": "2024-02-12T08:46:49.539984800Z"
    }
   },
   "outputs": [],
   "source": [
    "alpha_holder = 3.2\n",
    "alpha_disk = 6.6\n",
    "\n",
    "alpha_I = np.sqrt(np.square(alpha_holder)+np.square(n_array)*np.square(alpha_disk))"
   ]
  },
  {
   "cell_type": "markdown",
   "id": "e2f65688-3206-4af9-9c4c-7ccc62e6b730",
   "metadata": {},
   "source": [
    "## Non-weighted Fit"
   ]
  },
  {
   "cell_type": "code",
   "execution_count": 119,
   "id": "4170536a-4386-4921-b241-972b738ddb65",
   "metadata": {
    "ExecuteTime": {
     "end_time": "2024-02-12T08:46:49.713796600Z",
     "start_time": "2024-02-12T08:46:49.544573500Z"
    }
   },
   "outputs": [],
   "source": [
    "def model_lin(x, m, c):\n",
    "    return m*x"
   ]
  },
  {
   "cell_type": "code",
   "execution_count": 120,
   "id": "bc8f4a73-9e99-438e-a56d-ef4ab0bdb601",
   "metadata": {
    "ExecuteTime": {
     "end_time": "2024-02-12T08:46:49.713796600Z",
     "start_time": "2024-02-12T08:46:49.547613400Z"
    }
   },
   "outputs": [
    {
     "name": "stderr",
     "output_type": "stream",
     "text": [
      "C:\\Users\\Theodore\\AppData\\Local\\Temp\\ipykernel_23336\\1241160876.py:1: OptimizeWarning: Covariance of the parameters could not be estimated\n",
      "  lin_opt, lin_cov = opt.curve_fit(model_lin, T_square, I_array)\n"
     ]
    }
   ],
   "source": [
    "lin_opt, lin_cov = opt.curve_fit(model_lin, T_square, I_array)"
   ]
  },
  {
   "cell_type": "code",
   "execution_count": 136,
   "outputs": [
    {
     "name": "stderr",
     "output_type": "stream",
     "text": [
      "findfont: Font family 'xkcd' not found.\n",
      "findfont: Font family 'xkcd Script' not found.\n",
      "findfont: Font family 'Comic Neue' not found.\n",
      "findfont: Font family 'xkcd' not found.\n",
      "findfont: Font family 'xkcd Script' not found.\n",
      "findfont: Font family 'Comic Neue' not found.\n",
      "findfont: Font family 'xkcd' not found.\n",
      "findfont: Font family 'xkcd Script' not found.\n",
      "findfont: Font family 'Comic Neue' not found.\n",
      "findfont: Font family 'xkcd' not found.\n",
      "findfont: Font family 'xkcd Script' not found.\n",
      "findfont: Font family 'Comic Neue' not found.\n",
      "findfont: Font family 'xkcd' not found.\n",
      "findfont: Font family 'xkcd Script' not found.\n",
      "findfont: Font family 'Comic Neue' not found.\n",
      "findfont: Font family 'xkcd' not found.\n",
      "findfont: Font family 'xkcd Script' not found.\n",
      "findfont: Font family 'Comic Neue' not found.\n",
      "findfont: Font family 'xkcd' not found.\n",
      "findfont: Font family 'xkcd Script' not found.\n",
      "findfont: Font family 'Comic Neue' not found.\n",
      "findfont: Font family 'xkcd' not found.\n",
      "findfont: Font family 'xkcd Script' not found.\n",
      "findfont: Font family 'Comic Neue' not found.\n",
      "findfont: Font family 'xkcd' not found.\n",
      "findfont: Font family 'xkcd Script' not found.\n",
      "findfont: Font family 'Comic Neue' not found.\n",
      "findfont: Font family 'xkcd' not found.\n",
      "findfont: Font family 'xkcd Script' not found.\n",
      "findfont: Font family 'Comic Neue' not found.\n",
      "findfont: Font family 'xkcd' not found.\n",
      "findfont: Font family 'xkcd Script' not found.\n",
      "findfont: Font family 'Comic Neue' not found.\n",
      "findfont: Font family 'xkcd' not found.\n",
      "findfont: Font family 'xkcd Script' not found.\n",
      "findfont: Font family 'Comic Neue' not found.\n",
      "findfont: Font family 'xkcd' not found.\n",
      "findfont: Font family 'xkcd Script' not found.\n",
      "findfont: Font family 'Comic Neue' not found.\n",
      "findfont: Font family 'xkcd' not found.\n",
      "findfont: Font family 'xkcd Script' not found.\n",
      "findfont: Font family 'Comic Neue' not found.\n",
      "findfont: Font family 'xkcd' not found.\n",
      "findfont: Font family 'xkcd Script' not found.\n",
      "findfont: Font family 'Comic Neue' not found.\n",
      "findfont: Font family 'xkcd' not found.\n",
      "findfont: Font family 'xkcd Script' not found.\n",
      "findfont: Font family 'Comic Neue' not found.\n",
      "findfont: Font family 'xkcd' not found.\n",
      "findfont: Font family 'xkcd Script' not found.\n",
      "findfont: Font family 'Comic Neue' not found.\n",
      "findfont: Font family 'xkcd' not found.\n",
      "findfont: Font family 'xkcd Script' not found.\n",
      "findfont: Font family 'Comic Neue' not found.\n",
      "findfont: Font family 'xkcd' not found.\n",
      "findfont: Font family 'xkcd Script' not found.\n",
      "findfont: Font family 'Comic Neue' not found.\n",
      "findfont: Font family 'xkcd' not found.\n",
      "findfont: Font family 'xkcd Script' not found.\n",
      "findfont: Font family 'Comic Neue' not found.\n"
     ]
    },
    {
     "name": "stdout",
     "output_type": "stream",
     "text": [
      "[ 386.8  673.6  960.4 1247.2 1534.  1820.8 2107.6 2394.4 2681.2]\n",
      "[0.22780165 0.41510408 0.56271431 0.71861951 0.91612245 1.08041176\n",
      " 1.29536916 1.43794359 1.5937259 ]\n"
     ]
    },
    {
     "name": "stderr",
     "output_type": "stream",
     "text": [
      "findfont: Font family 'xkcd' not found.\n",
      "findfont: Font family 'xkcd Script' not found.\n",
      "findfont: Font family 'Comic Neue' not found.\n",
      "findfont: Font family 'xkcd' not found.\n",
      "findfont: Font family 'xkcd Script' not found.\n",
      "findfont: Font family 'Comic Neue' not found.\n",
      "findfont: Font family 'xkcd' not found.\n",
      "findfont: Font family 'xkcd Script' not found.\n",
      "findfont: Font family 'Comic Neue' not found.\n",
      "findfont: Font family 'xkcd' not found.\n",
      "findfont: Font family 'xkcd Script' not found.\n",
      "findfont: Font family 'Comic Neue' not found.\n",
      "findfont: Font family 'xkcd' not found.\n",
      "findfont: Font family 'xkcd Script' not found.\n",
      "findfont: Font family 'Comic Neue' not found.\n",
      "findfont: Font family 'xkcd' not found.\n",
      "findfont: Font family 'xkcd Script' not found.\n",
      "findfont: Font family 'Comic Neue' not found.\n",
      "findfont: Font family 'xkcd' not found.\n",
      "findfont: Font family 'xkcd Script' not found.\n",
      "findfont: Font family 'Comic Neue' not found.\n",
      "findfont: Font family 'xkcd' not found.\n",
      "findfont: Font family 'xkcd Script' not found.\n",
      "findfont: Font family 'Comic Neue' not found.\n",
      "findfont: Font family 'xkcd' not found.\n",
      "findfont: Font family 'xkcd Script' not found.\n",
      "findfont: Font family 'Comic Neue' not found.\n",
      "findfont: Font family 'xkcd' not found.\n",
      "findfont: Font family 'xkcd Script' not found.\n",
      "findfont: Font family 'Comic Neue' not found.\n",
      "findfont: Font family 'xkcd' not found.\n",
      "findfont: Font family 'xkcd Script' not found.\n",
      "findfont: Font family 'Comic Neue' not found.\n",
      "findfont: Font family 'xkcd' not found.\n",
      "findfont: Font family 'xkcd Script' not found.\n",
      "findfont: Font family 'Comic Neue' not found.\n",
      "findfont: Font family 'xkcd' not found.\n",
      "findfont: Font family 'xkcd Script' not found.\n",
      "findfont: Font family 'Comic Neue' not found.\n",
      "findfont: Font family 'xkcd' not found.\n",
      "findfont: Font family 'xkcd Script' not found.\n",
      "findfont: Font family 'Comic Neue' not found.\n",
      "findfont: Font family 'xkcd' not found.\n",
      "findfont: Font family 'xkcd Script' not found.\n",
      "findfont: Font family 'Comic Neue' not found.\n",
      "findfont: Font family 'xkcd' not found.\n",
      "findfont: Font family 'xkcd Script' not found.\n",
      "findfont: Font family 'Comic Neue' not found.\n",
      "findfont: Font family 'xkcd' not found.\n",
      "findfont: Font family 'xkcd Script' not found.\n",
      "findfont: Font family 'Comic Neue' not found.\n",
      "findfont: Font family 'xkcd' not found.\n",
      "findfont: Font family 'xkcd Script' not found.\n",
      "findfont: Font family 'Comic Neue' not found.\n",
      "findfont: Font family 'xkcd' not found.\n",
      "findfont: Font family 'xkcd Script' not found.\n",
      "findfont: Font family 'Comic Neue' not found.\n",
      "findfont: Font family 'xkcd' not found.\n",
      "findfont: Font family 'xkcd Script' not found.\n",
      "findfont: Font family 'Comic Neue' not found.\n",
      "findfont: Font family 'xkcd' not found.\n",
      "findfont: Font family 'xkcd Script' not found.\n",
      "findfont: Font family 'Comic Neue' not found.\n",
      "findfont: Font family 'xkcd' not found.\n",
      "findfont: Font family 'xkcd Script' not found.\n",
      "findfont: Font family 'Comic Neue' not found.\n",
      "findfont: Font family 'xkcd' not found.\n",
      "findfont: Font family 'xkcd Script' not found.\n",
      "findfont: Font family 'Comic Neue' not found.\n",
      "findfont: Font family 'xkcd' not found.\n",
      "findfont: Font family 'xkcd Script' not found.\n",
      "findfont: Font family 'Comic Neue' not found.\n",
      "findfont: Font family 'xkcd' not found.\n",
      "findfont: Font family 'xkcd Script' not found.\n",
      "findfont: Font family 'Comic Neue' not found.\n",
      "findfont: Font family 'xkcd' not found.\n",
      "findfont: Font family 'xkcd Script' not found.\n",
      "findfont: Font family 'Comic Neue' not found.\n",
      "findfont: Font family 'xkcd' not found.\n",
      "findfont: Font family 'xkcd Script' not found.\n",
      "findfont: Font family 'Comic Neue' not found.\n",
      "findfont: Font family 'xkcd' not found.\n",
      "findfont: Font family 'xkcd Script' not found.\n",
      "findfont: Font family 'Comic Neue' not found.\n",
      "findfont: Font family 'xkcd' not found.\n",
      "findfont: Font family 'xkcd Script' not found.\n",
      "findfont: Font family 'Comic Neue' not found.\n",
      "findfont: Font family 'xkcd' not found.\n",
      "findfont: Font family 'xkcd Script' not found.\n",
      "findfont: Font family 'Comic Neue' not found.\n",
      "findfont: Font family 'xkcd' not found.\n",
      "findfont: Font family 'xkcd Script' not found.\n",
      "findfont: Font family 'Comic Neue' not found.\n",
      "findfont: Font family 'xkcd' not found.\n",
      "findfont: Font family 'xkcd Script' not found.\n",
      "findfont: Font family 'Comic Neue' not found.\n",
      "findfont: Font family 'xkcd' not found.\n",
      "findfont: Font family 'xkcd Script' not found.\n",
      "findfont: Font family 'Comic Neue' not found.\n",
      "findfont: Font family 'xkcd' not found.\n",
      "findfont: Font family 'xkcd Script' not found.\n",
      "findfont: Font family 'Comic Neue' not found.\n",
      "findfont: Font family 'xkcd' not found.\n",
      "findfont: Font family 'xkcd Script' not found.\n",
      "findfont: Font family 'Comic Neue' not found.\n",
      "findfont: Font family 'xkcd' not found.\n",
      "findfont: Font family 'xkcd Script' not found.\n",
      "findfont: Font family 'Comic Neue' not found.\n",
      "findfont: Font family 'xkcd' not found.\n",
      "findfont: Font family 'xkcd Script' not found.\n",
      "findfont: Font family 'Comic Neue' not found.\n",
      "findfont: Font family 'xkcd' not found.\n",
      "findfont: Font family 'xkcd Script' not found.\n",
      "findfont: Font family 'Comic Neue' not found.\n",
      "findfont: Font family 'xkcd' not found.\n",
      "findfont: Font family 'xkcd Script' not found.\n",
      "findfont: Font family 'Comic Neue' not found.\n",
      "findfont: Font family 'xkcd' not found.\n",
      "findfont: Font family 'xkcd Script' not found.\n",
      "findfont: Font family 'Comic Neue' not found.\n",
      "findfont: Font family 'xkcd' not found.\n",
      "findfont: Font family 'xkcd Script' not found.\n",
      "findfont: Font family 'Comic Neue' not found.\n",
      "findfont: Font family 'xkcd' not found.\n",
      "findfont: Font family 'xkcd Script' not found.\n",
      "findfont: Font family 'Comic Neue' not found.\n",
      "findfont: Font family 'xkcd' not found.\n",
      "findfont: Font family 'xkcd Script' not found.\n",
      "findfont: Font family 'Comic Neue' not found.\n",
      "findfont: Font family 'xkcd' not found.\n",
      "findfont: Font family 'xkcd Script' not found.\n",
      "findfont: Font family 'Comic Neue' not found.\n",
      "findfont: Font family 'xkcd' not found.\n",
      "findfont: Font family 'xkcd Script' not found.\n",
      "findfont: Font family 'Comic Neue' not found.\n",
      "findfont: Font family 'xkcd' not found.\n",
      "findfont: Font family 'xkcd Script' not found.\n",
      "findfont: Font family 'Comic Neue' not found.\n",
      "findfont: Font family 'xkcd' not found.\n",
      "findfont: Font family 'xkcd Script' not found.\n",
      "findfont: Font family 'Comic Neue' not found.\n",
      "findfont: Font family 'xkcd' not found.\n",
      "findfont: Font family 'xkcd Script' not found.\n",
      "findfont: Font family 'Comic Neue' not found.\n"
     ]
    },
    {
     "data": {
      "text/plain": "<Figure size 640x480 with 1 Axes>",
      "image/png": "[encoded data removed]"
     },
     "metadata": {},
     "output_type": "display_data"
    }
   ],
   "source": [
    "print(I_array)\n",
    "print(T_square)\n",
    "\n",
    "x = T_square\n",
    "y = I_array\n",
    "plt.plot(np.unique(x), np.poly1d(np.polyfit(x, y, 1))(np.unique(x)), linestyle='dotted')\n",
    "plt.scatter(x, y)\n",
    "plt.title(\"Moment of Inertia vs Period^2\")\n",
    "plt.xlabel(\"Period Squared (s^2)\")\n",
    "plt.ylabel(\"Total Moment of Inertia (m kg s ?\")\n",
    "plt.xkcd()\n",
    "plt.show()"
   ],
   "metadata": {
    "collapsed": false,
    "ExecuteTime": {
     "end_time": "2024-02-12T08:54:01.720282300Z",
     "start_time": "2024-02-12T08:54:01.254924100Z"
    }
   },
   "id": "d3df3c7c6370f1db"
  },
  {
   "cell_type": "markdown",
   "id": "43507135-727e-4310-b966-4e894b34f946",
   "metadata": {},
   "source": [
    "## Weighted-Fit"
   ]
  },
  {
   "cell_type": "code",
   "execution_count": 122,
   "id": "a379d4dc-8145-404f-872d-370c5237c4cc",
   "metadata": {
    "ExecuteTime": {
     "end_time": "2024-02-12T08:46:49.968796600Z",
     "start_time": "2024-02-12T08:46:49.905650900Z"
    }
   },
   "outputs": [],
   "source": [
    "alpha_I0 = lin_opt[0]*alpha_T_square"
   ]
  },
  {
   "cell_type": "code",
   "execution_count": 123,
   "id": "d6bbe05b-29bd-4c18-ac66-7e252a8fdcb7",
   "metadata": {
    "ExecuteTime": {
     "end_time": "2024-02-12T08:46:50.083158500Z",
     "start_time": "2024-02-12T08:46:49.910373200Z"
    }
   },
   "outputs": [],
   "source": [
    "#The error of x is added to the error of y.\n",
    "alpha_I_eq = np.sqrt(np.square(alpha_I)+np.square(alpha_I0))"
   ]
  },
  {
   "cell_type": "code",
   "execution_count": 124,
   "id": "cac31939-bb42-43cc-acf8-adeef42ec165",
   "metadata": {
    "ExecuteTime": {
     "end_time": "2024-02-12T08:46:50.172785Z",
     "start_time": "2024-02-12T08:46:49.920706800Z"
    }
   },
   "outputs": [],
   "source": [
    "w = 1/np.square(alpha_I_eq)"
   ]
  },
  {
   "cell_type": "code",
   "execution_count": 125,
   "id": "e41e6342-ae0b-4432-8257-585a1f90094c",
   "metadata": {
    "ExecuteTime": {
     "end_time": "2024-02-12T08:46:50.209695800Z",
     "start_time": "2024-02-12T08:46:49.926220900Z"
    }
   },
   "outputs": [],
   "source": [
    "wx = np.multiply(T_square,w)"
   ]
  },
  {
   "cell_type": "code",
   "execution_count": 126,
   "id": "416c9e4f-bc8b-4ea5-9ae5-d8d5c0392615",
   "metadata": {
    "ExecuteTime": {
     "end_time": "2024-02-12T08:46:50.209695800Z",
     "start_time": "2024-02-12T08:46:49.931383400Z"
    }
   },
   "outputs": [],
   "source": [
    "wxy = np.multiply(wx,I_array)"
   ]
  },
  {
   "cell_type": "code",
   "execution_count": 127,
   "id": "9b98ecb1-0882-4ad5-9ebd-b4890a11f3df",
   "metadata": {
    "ExecuteTime": {
     "end_time": "2024-02-12T08:46:50.210706200Z",
     "start_time": "2024-02-12T08:46:49.936586100Z"
    }
   },
   "outputs": [],
   "source": [
    "sqrt_w = np.sqrt(w)"
   ]
  },
  {
   "cell_type": "code",
   "execution_count": 128,
   "id": "9b307997-9a1b-483f-936a-039c4ec776db",
   "metadata": {
    "ExecuteTime": {
     "end_time": "2024-02-12T08:46:50.213696Z",
     "start_time": "2024-02-12T08:46:49.944396100Z"
    }
   },
   "outputs": [],
   "source": [
    "x2 = np.square(T_square)\n",
    "x2w = np.multiply(x2,w)"
   ]
  },
  {
   "cell_type": "code",
   "execution_count": 129,
   "id": "6962fbb9-58ed-44c8-bdcf-bc48fcde664d",
   "metadata": {
    "ExecuteTime": {
     "end_time": "2024-02-12T08:46:50.213696Z",
     "start_time": "2024-02-12T08:46:49.947937600Z"
    }
   },
   "outputs": [],
   "source": [
    "xw = np.multiply(w, T_square)"
   ]
  },
  {
   "cell_type": "code",
   "execution_count": 130,
   "id": "ba90b837-b680-41dc-bf95-224ef08eeee9",
   "metadata": {
    "ExecuteTime": {
     "end_time": "2024-02-12T08:46:50.213696Z",
     "start_time": "2024-02-12T08:46:49.954656Z"
    }
   },
   "outputs": [],
   "source": [
    "wy = np.multiply(w, I_array)"
   ]
  },
  {
   "cell_type": "code",
   "execution_count": 131,
   "id": "4c4af7ff-0c0e-4f64-b94a-19f7a9dff41c",
   "metadata": {
    "ExecuteTime": {
     "end_time": "2024-02-12T08:46:50.213696Z",
     "start_time": "2024-02-12T08:46:49.959480900Z"
    }
   },
   "outputs": [],
   "source": [
    "weighted_m = (np.sum(w)*np.sum(wxy)-np.sum(xw)*np.sum(wy))/(np.sum(w)*np.sum(x2w)-np.sum(xw)**2)"
   ]
  },
  {
   "cell_type": "code",
   "execution_count": 132,
   "id": "e9cce72a-b726-44e3-81d4-a081dbaf22e8",
   "metadata": {
    "ExecuteTime": {
     "end_time": "2024-02-12T08:46:50.213696Z",
     "start_time": "2024-02-12T08:46:49.964207900Z"
    }
   },
   "outputs": [
    {
     "name": "stdout",
     "output_type": "stream",
     "text": [
      "1668.6057191881198\n"
     ]
    }
   ],
   "source": [
    "print(weighted_m)"
   ]
  },
  {
   "cell_type": "code",
   "execution_count": 132,
   "id": "20085cab-b982-4132-8c2d-45561490ff4a",
   "metadata": {
    "ExecuteTime": {
     "end_time": "2024-02-12T08:46:50.218695100Z",
     "start_time": "2024-02-12T08:46:49.968796600Z"
    }
   },
   "outputs": [],
   "source": []
  }
 ],
 "metadata": {
  "kernelspec": {
   "display_name": "Python 3 (ipykernel)",
   "language": "python",
   "name": "python3"
  },
  "language_info": {
   "codemirror_mode": {
    "name": "ipython",
    "version": 3
   },
   "file_extension": ".py",
   "mimetype": "text/x-python",
   "name": "python",
   "nbconvert_exporter": "python",
   "pygments_lexer": "ipython3",
   "version": "3.9.12"
  }
 },
 "nbformat": 4,
 "nbformat_minor": 5
}
